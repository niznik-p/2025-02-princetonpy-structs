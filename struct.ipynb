{
 "cells": [
  {
   "cell_type": "markdown",
   "source": [
    "# collections.deque"
   ],
   "metadata": {
    "collapsed": false
   },
   "id": "c8c7e94000ff3429"
  },
  {
   "cell_type": "code",
   "execution_count": 23,
   "outputs": [],
   "source": [
    "from collections import deque"
   ],
   "metadata": {
    "collapsed": false,
    "ExecuteTime": {
     "end_time": "2025-02-20T17:10:32.312723Z",
     "start_time": "2025-02-20T17:10:32.310017Z"
    }
   },
   "id": "initial_id"
  },
  {
   "cell_type": "code",
   "execution_count": 27,
   "outputs": [
    {
     "name": "stdout",
     "output_type": "stream",
     "text": [
      "deque([2, 1])\n"
     ]
    }
   ],
   "source": [
    "my_queue = deque(maxlen=3)\n",
    "my_queue.append(1)\n",
    "my_queue.appendleft(2)\n",
    "print(my_queue)"
   ],
   "metadata": {
    "collapsed": false,
    "ExecuteTime": {
     "end_time": "2025-02-20T17:12:37.525333Z",
     "start_time": "2025-02-20T17:12:37.516239Z"
    }
   },
   "id": "88f65d67fe223cd5"
  },
  {
   "cell_type": "code",
   "execution_count": 28,
   "outputs": [
    {
     "name": "stdout",
     "output_type": "stream",
     "text": [
      "deque([2, 1, 3, 4])\n"
     ]
    }
   ],
   "source": [
    "my_queue.append(3)\n",
    "my_queue.append(4)\n",
    "print(my_queue)"
   ],
   "metadata": {
    "collapsed": false,
    "ExecuteTime": {
     "end_time": "2025-02-20T17:12:43.092564Z",
     "start_time": "2025-02-20T17:12:43.090219Z"
    }
   },
   "id": "1fa60e9498b61a81"
  },
  {
   "cell_type": "code",
   "execution_count": 29,
   "outputs": [
    {
     "name": "stdout",
     "output_type": "stream",
     "text": [
      "4\n"
     ]
    }
   ],
   "source": [
    "a = my_queue.pop()\n",
    "print(a)"
   ],
   "metadata": {
    "collapsed": false,
    "ExecuteTime": {
     "end_time": "2025-02-20T17:12:45.779380Z",
     "start_time": "2025-02-20T17:12:45.776216Z"
    }
   },
   "id": "faf473604e6ac6a9"
  },
  {
   "cell_type": "markdown",
   "source": [
    "# collections.defaultdict\n",
    "\n",
    "int, float, list, set, dict, a function, a lambda, a callable class..."
   ],
   "metadata": {
    "collapsed": false
   },
   "id": "845db4167ed71818"
  },
  {
   "cell_type": "code",
   "execution_count": 30,
   "outputs": [],
   "source": [
    "from collections import defaultdict"
   ],
   "metadata": {
    "collapsed": false,
    "ExecuteTime": {
     "end_time": "2025-02-20T17:14:47.949841Z",
     "start_time": "2025-02-20T17:14:47.943849Z"
    }
   },
   "id": "8988cab55804357a"
  },
  {
   "cell_type": "code",
   "execution_count": 31,
   "outputs": [
    {
     "name": "stdout",
     "output_type": "stream",
     "text": [
      "defaultdict(<class 'int'>, {'a': 0})\n"
     ]
    }
   ],
   "source": [
    "my_dict = defaultdict(int)\n",
    "my_dict['a']\n",
    "print(my_dict)"
   ],
   "metadata": {
    "collapsed": false,
    "ExecuteTime": {
     "end_time": "2025-02-20T17:14:57.763462Z",
     "start_time": "2025-02-20T17:14:57.757754Z"
    }
   },
   "id": "bd772f83e7cb06fb"
  },
  {
   "cell_type": "code",
   "execution_count": 33,
   "outputs": [
    {
     "ename": "SyntaxError",
     "evalue": "expected 'except' or 'finally' block (3423985356.py, line 9)",
     "output_type": "error",
     "traceback": [
      "\u001B[0;36m  Cell \u001B[0;32mIn[33], line 9\u001B[0;36m\u001B[0m\n\u001B[0;31m    cooler_dict = defaultdict(int)\u001B[0m\n\u001B[0m                                  ^\u001B[0m\n\u001B[0;31mSyntaxError\u001B[0m\u001B[0;31m:\u001B[0m expected 'except' or 'finally' block\n"
     ]
    }
   ],
   "source": [
    "basic_dict = {}\n",
    "for k in [1, 2, 1, 3, 1, 4, 1, 3]:\n",
    "    # if k not in basic_dict:\n",
    "    #     basic_dict[k] = 0\n",
    "    # basic_dict[k] += 1\n",
    "    try:\n",
    "        basic_dict[k] += 1\n",
    "    except KeyError:\n",
    "        basic_dict[k] = 1\n",
    "    \n",
    "cooler_dict = defaultdict(int)\n",
    "for k in [1, 2, 1, 3, 1, 4, 1, 3]:\n",
    "    cooler_dict[k] += 1\n",
    "    \n",
    "print(basic_dict, cooler_dict)"
   ],
   "metadata": {
    "collapsed": false,
    "ExecuteTime": {
     "end_time": "2025-02-20T17:16:55.950846Z",
     "start_time": "2025-02-20T17:16:55.947645Z"
    }
   },
   "id": "44339626cd0788a9"
  },
  {
   "cell_type": "markdown",
   "source": [
    "# collections.Counter"
   ],
   "metadata": {
    "collapsed": false
   },
   "id": "9c8567eee72ec159"
  },
  {
   "cell_type": "code",
   "execution_count": 34,
   "outputs": [],
   "source": [
    "from collections import Counter"
   ],
   "metadata": {
    "collapsed": false,
    "ExecuteTime": {
     "end_time": "2025-02-20T17:18:26.704043Z",
     "start_time": "2025-02-20T17:18:26.697365Z"
    }
   },
   "id": "fd473782fcd0fdef"
  },
  {
   "cell_type": "code",
   "execution_count": 35,
   "outputs": [
    {
     "name": "stdout",
     "output_type": "stream",
     "text": [
      "Counter({'cat': 2, 'a': 2, 'the': 1, 'is': 1, 'friend': 1, 'of': 1})\n",
      "[('cat', 2), ('a', 2), ('the', 1)]\n"
     ]
    }
   ],
   "source": [
    "words = ['the', 'cat', 'is', 'a', 'friend', 'of', 'a', 'cat']\n",
    "counts = Counter(words)\n",
    "print(counts)\n",
    "print(counts.most_common(3))"
   ],
   "metadata": {
    "collapsed": false,
    "ExecuteTime": {
     "end_time": "2025-02-20T17:18:47.177164Z",
     "start_time": "2025-02-20T17:18:47.172371Z"
    }
   },
   "id": "5fe5f1bf411c191a"
  },
  {
   "cell_type": "markdown",
   "source": [
    "# heapq"
   ],
   "metadata": {
    "collapsed": false
   },
   "id": "d3c21fbb5320a112"
  },
  {
   "cell_type": "code",
   "execution_count": 36,
   "outputs": [],
   "source": [
    "import heapq"
   ],
   "metadata": {
    "collapsed": false,
    "ExecuteTime": {
     "end_time": "2025-02-20T17:21:04.927690Z",
     "start_time": "2025-02-20T17:21:04.924017Z"
    }
   },
   "id": "7c3145e4eeb63981"
  },
  {
   "cell_type": "code",
   "execution_count": 39,
   "outputs": [
    {
     "name": "stdout",
     "output_type": "stream",
     "text": [
      "[-2, 3, 0, 77, 5, 9, 4]\n"
     ]
    }
   ],
   "source": [
    "my_heap = [3, 77, 4, -2, 5, 9, 0]\n",
    "heapq.heapify(my_heap)\n",
    "print(my_heap)"
   ],
   "metadata": {
    "collapsed": false,
    "ExecuteTime": {
     "end_time": "2025-02-20T17:21:46.829872Z",
     "start_time": "2025-02-20T17:21:46.826129Z"
    }
   },
   "id": "5c67ed957d133234"
  },
  {
   "cell_type": "code",
   "execution_count": 44,
   "outputs": [
    {
     "name": "stdout",
     "output_type": "stream",
     "text": [
      "[1, 1, 1, 3, 5, 9, 4, 77]\n"
     ]
    }
   ],
   "source": [
    "heapq.heappush(my_heap, 1)\n",
    "print(my_heap)"
   ],
   "metadata": {
    "collapsed": false,
    "ExecuteTime": {
     "end_time": "2025-02-20T17:22:37.312632Z",
     "start_time": "2025-02-20T17:22:37.308235Z"
    }
   },
   "id": "9535b912f45660cf"
  },
  {
   "cell_type": "code",
   "execution_count": 46,
   "outputs": [
    {
     "name": "stdout",
     "output_type": "stream",
     "text": [
      "1 [1, 3, 4, 77, 5, 9]\n"
     ]
    }
   ],
   "source": [
    "a = heapq.heappop(my_heap)\n",
    "print(a, my_heap)"
   ],
   "metadata": {
    "collapsed": false,
    "ExecuteTime": {
     "end_time": "2025-02-20T17:22:45.321857Z",
     "start_time": "2025-02-20T17:22:45.320077Z"
    }
   },
   "id": "d2fb3d6e224f258"
  },
  {
   "cell_type": "code",
   "execution_count": 47,
   "outputs": [
    {
     "name": "stdout",
     "output_type": "stream",
     "text": [
      "1 [3, 5, 4, 77, 9]\n"
     ]
    }
   ],
   "source": [
    "b = heapq.heappop(my_heap)\n",
    "print(b, my_heap)"
   ],
   "metadata": {
    "collapsed": false,
    "ExecuteTime": {
     "end_time": "2025-02-20T17:22:48.120243Z",
     "start_time": "2025-02-20T17:22:48.117461Z"
    }
   },
   "id": "505a9ee915e9b316"
  },
  {
   "cell_type": "code",
   "execution_count": 48,
   "outputs": [
    {
     "data": {
      "text/plain": "[77, 9, 5]"
     },
     "execution_count": 48,
     "metadata": {},
     "output_type": "execute_result"
    }
   ],
   "source": [
    "heapq.nlargest(3, my_heap)"
   ],
   "metadata": {
    "collapsed": false,
    "ExecuteTime": {
     "end_time": "2025-02-20T17:23:31.548428Z",
     "start_time": "2025-02-20T17:23:31.543449Z"
    }
   },
   "id": "3b62012d47c13cb8"
  },
  {
   "cell_type": "markdown",
   "source": [
    "# bisect"
   ],
   "metadata": {
    "collapsed": false
   },
   "id": "e8bf5534125694ab"
  },
  {
   "cell_type": "code",
   "execution_count": 49,
   "outputs": [],
   "source": [
    "import bisect"
   ],
   "metadata": {
    "collapsed": false,
    "ExecuteTime": {
     "end_time": "2025-02-20T17:24:43.941290Z",
     "start_time": "2025-02-20T17:24:43.939199Z"
    }
   },
   "id": "7a4fe7b57b570fbf"
  },
  {
   "cell_type": "code",
   "execution_count": 50,
   "outputs": [
    {
     "name": "stdout",
     "output_type": "stream",
     "text": [
      "2\n"
     ]
    }
   ],
   "source": [
    "my_list = [1, 3, 5, 7, 9]\n",
    "print(bisect.bisect(my_list, 4))"
   ],
   "metadata": {
    "collapsed": false,
    "ExecuteTime": {
     "end_time": "2025-02-20T17:24:54.179798Z",
     "start_time": "2025-02-20T17:24:54.176681Z"
    }
   },
   "id": "1a56da1f4848cfed"
  },
  {
   "cell_type": "code",
   "execution_count": 51,
   "outputs": [
    {
     "name": "stdout",
     "output_type": "stream",
     "text": [
      "[1, 3, 4, 5, 7, 9]\n"
     ]
    }
   ],
   "source": [
    "bisect.insort(my_list, 4)\n",
    "print(my_list)"
   ],
   "metadata": {
    "collapsed": false,
    "ExecuteTime": {
     "end_time": "2025-02-20T17:25:16.089985Z",
     "start_time": "2025-02-20T17:25:16.087449Z"
    }
   },
   "id": "f96dac57fb669c5a"
  },
  {
   "cell_type": "markdown",
   "source": [
    "# dataclasses.dataclass"
   ],
   "metadata": {
    "collapsed": false
   },
   "id": "5abf1200c81b005d"
  },
  {
   "cell_type": "code",
   "execution_count": 52,
   "outputs": [],
   "source": [
    "from dataclasses import dataclass"
   ],
   "metadata": {
    "collapsed": false,
    "ExecuteTime": {
     "end_time": "2025-02-20T17:25:51.121130Z",
     "start_time": "2025-02-20T17:25:51.114745Z"
    }
   },
   "id": "bc7004396e5d2369"
  },
  {
   "cell_type": "code",
   "execution_count": 53,
   "outputs": [],
   "source": [
    "@dataclass\n",
    "class Cat:\n",
    "    name: str\n",
    "    age: int\n",
    "    nice: bool\n",
    "    \n",
    "andy = Cat('Andy', 13, False)"
   ],
   "metadata": {
    "collapsed": false,
    "ExecuteTime": {
     "end_time": "2025-02-20T17:25:53.347262Z",
     "start_time": "2025-02-20T17:25:53.342214Z"
    }
   },
   "id": "8a841e6b10036ee"
  },
  {
   "cell_type": "code",
   "execution_count": 54,
   "outputs": [
    {
     "name": "stdout",
     "output_type": "stream",
     "text": [
      "Cat(name='Andy', age=13, nice=False) 1\n"
     ]
    }
   ],
   "source": [
    "print(andy, andy.age - 12)"
   ],
   "metadata": {
    "collapsed": false,
    "ExecuteTime": {
     "end_time": "2025-02-20T17:25:55.932101Z",
     "start_time": "2025-02-20T17:25:55.928934Z"
    }
   },
   "id": "8ba1c0b7c0e9185f"
  },
  {
   "cell_type": "markdown",
   "source": [
    "# Create a Custom dtype for a Numpy Array"
   ],
   "metadata": {
    "collapsed": false
   },
   "id": "614f9a5498ec9ea5"
  },
  {
   "cell_type": "code",
   "execution_count": null,
   "outputs": [],
   "source": [
    "import numpy as np"
   ],
   "metadata": {
    "collapsed": false
   },
   "id": "3f0519af9086212e"
  },
  {
   "cell_type": "code",
   "execution_count": 55,
   "outputs": [],
   "source": [
    "# You can also subclass np.ndarray\n",
    "water_tower_dtype = np.dtype([\n",
    "    ('lat', np.float64),\n",
    "    ('lon', np.float64),\n",
    "    ('volume', np.float64)\n",
    "])\n",
    "\n",
    "water_towers = np.array([(40.0, -105.0, 300.0), (39.0, -106.0, 400.0)], dtype=water_tower_dtype)"
   ],
   "metadata": {
    "collapsed": false,
    "ExecuteTime": {
     "end_time": "2025-02-20T17:37:27.251995Z",
     "start_time": "2025-02-20T17:37:27.249777Z"
    }
   },
   "id": "d46e5d3dc128ff98"
  },
  {
   "cell_type": "code",
   "execution_count": 56,
   "outputs": [
    {
     "name": "stdout",
     "output_type": "stream",
     "text": [
      "[(40., -105., 300.) (39., -106., 400.)]\n",
      "[40. 39.]\n",
      "300.0\n"
     ]
    }
   ],
   "source": [
    "print(water_towers)\n",
    "print(water_towers['lat'])\n",
    "print(water_towers[0]['volume'])"
   ],
   "metadata": {
    "collapsed": false,
    "ExecuteTime": {
     "end_time": "2025-02-20T17:37:29.356773Z",
     "start_time": "2025-02-20T17:37:29.350452Z"
    }
   },
   "id": "74b3ad02621bb5e6"
  },
  {
   "cell_type": "code",
   "execution_count": null,
   "outputs": [],
   "source": [],
   "metadata": {
    "collapsed": false
   },
   "id": "341c0cce52c314db"
  }
 ],
 "metadata": {
  "kernelspec": {
   "display_name": "Python 3",
   "language": "python",
   "name": "python3"
  },
  "language_info": {
   "codemirror_mode": {
    "name": "ipython",
    "version": 2
   },
   "file_extension": ".py",
   "mimetype": "text/x-python",
   "name": "python",
   "nbconvert_exporter": "python",
   "pygments_lexer": "ipython2",
   "version": "2.7.6"
  }
 },
 "nbformat": 4,
 "nbformat_minor": 5
}
