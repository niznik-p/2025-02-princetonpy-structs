{
 "cells": [
  {
   "cell_type": "markdown",
   "source": [
    "# collections.deque"
   ],
   "metadata": {
    "collapsed": false
   },
   "id": "c8c7e94000ff3429"
  },
  {
   "cell_type": "code",
   "execution_count": null,
   "outputs": [],
   "source": [
    "from collections import deque"
   ],
   "metadata": {
    "collapsed": false
   },
   "id": "initial_id"
  },
  {
   "cell_type": "code",
   "execution_count": null,
   "outputs": [],
   "source": [
    "my_queue = deque(maxlen=3)\n",
    "my_queue.append(1)\n",
    "my_queue.appendleft(2)\n",
    "print(my_queue)"
   ],
   "metadata": {
    "collapsed": false
   },
   "id": "88f65d67fe223cd5"
  },
  {
   "cell_type": "code",
   "execution_count": null,
   "outputs": [],
   "source": [
    "my_queue.append(3)\n",
    "my_queue.append(4)\n",
    "print(my_queue)"
   ],
   "metadata": {
    "collapsed": false
   },
   "id": "1fa60e9498b61a81"
  },
  {
   "cell_type": "code",
   "execution_count": null,
   "outputs": [],
   "source": [
    "a = my_queue.pop()\n",
    "print(a)"
   ],
   "metadata": {
    "collapsed": false
   },
   "id": "faf473604e6ac6a9"
  },
  {
   "cell_type": "markdown",
   "source": [
    "# collections.defaultdict\n",
    "\n",
    "int, float, list, set, dict, a function, a lambda, a callable class..."
   ],
   "metadata": {
    "collapsed": false
   },
   "id": "845db4167ed71818"
  },
  {
   "cell_type": "code",
   "execution_count": null,
   "outputs": [],
   "source": [
    "from collections import defaultdict"
   ],
   "metadata": {
    "collapsed": false
   },
   "id": "8988cab55804357a"
  },
  {
   "cell_type": "code",
   "execution_count": null,
   "outputs": [],
   "source": [
    "my_dict = defaultdict(int)\n",
    "my_dict['a']\n",
    "print(my_dict)"
   ],
   "metadata": {
    "collapsed": false
   },
   "id": "bd772f83e7cb06fb"
  },
  {
   "cell_type": "code",
   "execution_count": null,
   "outputs": [],
   "source": [
    "basic_dict = {}\n",
    "for k in [1, 2, 1, 3, 1, 4, 1, 3]:\n",
    "    if k not in basic_dict:\n",
    "        basic_dict[k] = 0\n",
    "    basic_dict[k] += 1\n",
    "    # Matt indicated this is more performant than the above\n",
    "    # try:\n",
    "    #     basic_dict[k] += 1\n",
    "    # except KeyError:\n",
    "    #     basic_dict[k] = 1\n",
    "    \n",
    "cooler_dict = defaultdict(int)\n",
    "for k in [1, 2, 1, 3, 1, 4, 1, 3]:\n",
    "    cooler_dict[k] += 1\n",
    "    \n",
    "print(basic_dict, cooler_dict)"
   ],
   "metadata": {
    "collapsed": false
   },
   "id": "44339626cd0788a9"
  },
  {
   "cell_type": "markdown",
   "source": [
    "# collections.Counter"
   ],
   "metadata": {
    "collapsed": false
   },
   "id": "9c8567eee72ec159"
  },
  {
   "cell_type": "code",
   "execution_count": null,
   "outputs": [],
   "source": [
    "from collections import Counter"
   ],
   "metadata": {
    "collapsed": false
   },
   "id": "fd473782fcd0fdef"
  },
  {
   "cell_type": "code",
   "execution_count": null,
   "outputs": [],
   "source": [
    "words = ['the', 'cat', 'is', 'a', 'friend', 'of', 'a', 'cat']\n",
    "counts = Counter(words)\n",
    "print(counts)\n",
    "print(counts.most_common(3))"
   ],
   "metadata": {
    "collapsed": false
   },
   "id": "5fe5f1bf411c191a"
  },
  {
   "cell_type": "markdown",
   "source": [
    "# heapq"
   ],
   "metadata": {
    "collapsed": false
   },
   "id": "d3c21fbb5320a112"
  },
  {
   "cell_type": "code",
   "execution_count": null,
   "outputs": [],
   "source": [
    "import heapq"
   ],
   "metadata": {
    "collapsed": false
   },
   "id": "7c3145e4eeb63981"
  },
  {
   "cell_type": "code",
   "execution_count": null,
   "outputs": [],
   "source": [
    "my_heap = [3, 77, 4, -2, 5, 9, 0]\n",
    "heapq.heapify(my_heap)\n",
    "print(my_heap)"
   ],
   "metadata": {
    "collapsed": false
   },
   "id": "5c67ed957d133234"
  },
  {
   "cell_type": "code",
   "execution_count": null,
   "outputs": [],
   "source": [
    "heapq.heappush(my_heap, 1)\n",
    "print(my_heap)"
   ],
   "metadata": {
    "collapsed": false
   },
   "id": "9535b912f45660cf"
  },
  {
   "cell_type": "code",
   "execution_count": null,
   "outputs": [],
   "source": [
    "a = heapq.heappop(my_heap)\n",
    "print(a, my_heap)"
   ],
   "metadata": {
    "collapsed": false
   },
   "id": "d2fb3d6e224f258"
  },
  {
   "cell_type": "code",
   "execution_count": null,
   "outputs": [],
   "source": [
    "b = heapq.heappop(my_heap)\n",
    "print(b, my_heap)"
   ],
   "metadata": {
    "collapsed": false
   },
   "id": "505a9ee915e9b316"
  },
  {
   "cell_type": "code",
   "execution_count": null,
   "outputs": [],
   "source": [
    "heapq.nlargest(3, my_heap)"
   ],
   "metadata": {
    "collapsed": false
   },
   "id": "3b62012d47c13cb8"
  },
  {
   "cell_type": "markdown",
   "source": [
    "# bisect"
   ],
   "metadata": {
    "collapsed": false
   },
   "id": "e8bf5534125694ab"
  },
  {
   "cell_type": "code",
   "execution_count": null,
   "outputs": [],
   "source": [
    "import bisect"
   ],
   "metadata": {
    "collapsed": false
   },
   "id": "7a4fe7b57b570fbf"
  },
  {
   "cell_type": "code",
   "execution_count": null,
   "outputs": [],
   "source": [
    "my_list = [1, 3, 5, 7, 9]\n",
    "print(bisect.bisect(my_list, 4))"
   ],
   "metadata": {
    "collapsed": false
   },
   "id": "1a56da1f4848cfed"
  },
  {
   "cell_type": "code",
   "execution_count": null,
   "outputs": [],
   "source": [
    "bisect.insort(my_list, 4)\n",
    "print(my_list)"
   ],
   "metadata": {
    "collapsed": false
   },
   "id": "f96dac57fb669c5a"
  },
  {
   "cell_type": "markdown",
   "source": [
    "# dataclasses.dataclass"
   ],
   "metadata": {
    "collapsed": false
   },
   "id": "5abf1200c81b005d"
  },
  {
   "cell_type": "code",
   "execution_count": null,
   "outputs": [],
   "source": [
    "from dataclasses import dataclass"
   ],
   "metadata": {
    "collapsed": false
   },
   "id": "bc7004396e5d2369"
  },
  {
   "cell_type": "code",
   "execution_count": null,
   "outputs": [],
   "source": [
    "@dataclass\n",
    "class Cat:\n",
    "    name: str\n",
    "    age: int\n",
    "    nice: bool\n",
    "    \n",
    "andy = Cat('Andy', 13, False)"
   ],
   "metadata": {
    "collapsed": false
   },
   "id": "8a841e6b10036ee"
  },
  {
   "cell_type": "code",
   "execution_count": null,
   "outputs": [],
   "source": [
    "print(andy, andy.age - 12)"
   ],
   "metadata": {
    "collapsed": false
   },
   "id": "8ba1c0b7c0e9185f"
  },
  {
   "cell_type": "markdown",
   "source": [
    "# Create a Custom dtype for a Numpy Array"
   ],
   "metadata": {
    "collapsed": false
   },
   "id": "614f9a5498ec9ea5"
  },
  {
   "cell_type": "code",
   "execution_count": null,
   "outputs": [],
   "source": [
    "import numpy as np"
   ],
   "metadata": {
    "collapsed": false
   },
   "id": "3f0519af9086212e"
  },
  {
   "cell_type": "code",
   "execution_count": null,
   "outputs": [],
   "source": [
    "# You can also subclass np.ndarray\n",
    "water_tower_dtype = np.dtype([\n",
    "    ('lat', np.float64),\n",
    "    ('lon', np.float64),\n",
    "    ('volume', np.float64)\n",
    "])\n",
    "\n",
    "water_towers = np.array([(40.0, -105.0, 300.0), (39.0, -106.0, 400.0)], dtype=water_tower_dtype)"
   ],
   "metadata": {
    "collapsed": false
   },
   "id": "d46e5d3dc128ff98"
  },
  {
   "cell_type": "code",
   "execution_count": null,
   "outputs": [],
   "source": [
    "print(water_towers)\n",
    "print(water_towers['lat'])\n",
    "print(water_towers[0]['volume'])"
   ],
   "metadata": {
    "collapsed": false
   },
   "id": "74b3ad02621bb5e6"
  },
  {
   "cell_type": "code",
   "execution_count": null,
   "outputs": [],
   "source": [],
   "metadata": {
    "collapsed": false
   },
   "id": "341c0cce52c314db"
  }
 ],
 "metadata": {
  "kernelspec": {
   "display_name": "Python 3",
   "language": "python",
   "name": "python3"
  },
  "language_info": {
   "codemirror_mode": {
    "name": "ipython",
    "version": 2
   },
   "file_extension": ".py",
   "mimetype": "text/x-python",
   "name": "python",
   "nbconvert_exporter": "python",
   "pygments_lexer": "ipython2",
   "version": "2.7.6"
  }
 },
 "nbformat": 4,
 "nbformat_minor": 5
}
